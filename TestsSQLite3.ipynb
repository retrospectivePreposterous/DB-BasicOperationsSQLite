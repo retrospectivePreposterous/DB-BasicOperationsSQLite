{
 "cells": [
  {
   "cell_type": "markdown",
   "id": "d1bb814e",
   "metadata": {},
   "source": [
    "# Operaciones básicas sqlite3"
   ]
  },
  {
   "cell_type": "code",
   "execution_count": 1,
   "id": "945c0cf8",
   "metadata": {},
   "outputs": [],
   "source": [
    "import pandas as pd\n",
    "import sqlite3\n",
    "import numpy as np\n",
    "from sqlalchemy import create_engine"
   ]
  },
  {
   "cell_type": "code",
   "execution_count": 60,
   "id": "19ec8364",
   "metadata": {},
   "outputs": [],
   "source": [
    "con = sqlite3.connect('example.db')\n",
    "cur = con.cursor()"
   ]
  },
  {
   "cell_type": "code",
   "execution_count": 4,
   "id": "031d02e9",
   "metadata": {},
   "outputs": [
    {
     "data": {
      "text/plain": [
       "<sqlite3.Cursor at 0x20e01812c70>"
      ]
     },
     "execution_count": 4,
     "metadata": {},
     "output_type": "execute_result"
    }
   ],
   "source": [
    "# Create table\n",
    "cur.execute('''CREATE TABLE stocks\n",
    "               (date text, trans text, symbol text, qty real, price real)''')\n",
    "\n",
    "cur.execute(\"INSERT INTO stocks VALUES ('2006-01-05','BUY','RHAT',100,35.14)\")\n",
    "cur.execute(\"INSERT INTO stocks VALUES ('2005-01-08','SELL','RHAT',200,70.99)\")"
   ]
  },
  {
   "cell_type": "code",
   "execution_count": 13,
   "id": "ec1cd6fa",
   "metadata": {},
   "outputs": [
    {
     "name": "stdout",
     "output_type": "stream",
     "text": [
      "('2005-01-08', 'SELL', 'RHAT', 200.0, 70.99)\n",
      "('2006-01-05', 'BUY', 'RHAT', 100.0, 35.14)\n"
     ]
    }
   ],
   "source": [
    "for row in cur.execute('SELECT * FROM stocks ORDER BY date'):\n",
    "        print(row)"
   ]
  },
  {
   "cell_type": "code",
   "execution_count": 8,
   "id": "c0330ab0",
   "metadata": {},
   "outputs": [],
   "source": [
    "# Save (commit) the changes\n",
    "con.commit()\n",
    "con.close()"
   ]
  },
  {
   "cell_type": "code",
   "execution_count": 46,
   "id": "1d001f22",
   "metadata": {},
   "outputs": [],
   "source": [
    "headers = tuple([i[1] for i in cur.execute(\"PRAGMA table_info(stocks)\")])"
   ]
  },
  {
   "cell_type": "code",
   "execution_count": 25,
   "id": "1deaa722",
   "metadata": {},
   "outputs": [
    {
     "name": "stdout",
     "output_type": "stream",
     "text": [
      "('date', 'trans', 'symbol', 'qty', 'price')\n",
      "('2005-01-08', 'SELL', 'RHAT', 200.0, 70.99)\n",
      "('2006-01-05', 'BUY', 'RHAT', 100.0, 35.14)\n"
     ]
    }
   ],
   "source": [
    "print(headers)\n",
    "for row in cur.execute('SELECT * FROM stocks ORDER BY date'):\n",
    "        print(row)"
   ]
  },
  {
   "cell_type": "code",
   "execution_count": 26,
   "id": "8dd643f0",
   "metadata": {},
   "outputs": [],
   "source": [
    "from tabulate import tabulate"
   ]
  },
  {
   "cell_type": "code",
   "execution_count": 61,
   "id": "ae52860d",
   "metadata": {},
   "outputs": [
    {
     "name": "stdout",
     "output_type": "stream",
     "text": [
      "╒════════════╤═════════╤══════════╤═══════╤═════════╤══════════╕\n",
      "│ date       │ trans   │ symbol   │   qty │   price │ totals   │\n",
      "╞════════════╪═════════╪══════════╪═══════╪═════════╪══════════╡\n",
      "│ 2006-01-05 │ BUY     │ RHAT     │   100 │   35.14 │          │\n",
      "├────────────┼─────────┼──────────┼───────┼─────────┼──────────┤\n",
      "│ 2005-01-08 │ SELL    │ RHAT     │   200 │   70.99 │          │\n",
      "╘════════════╧═════════╧══════════╧═══════╧═════════╧══════════╛\n"
     ]
    }
   ],
   "source": [
    "table =   [row for row in cur.execute('SELECT * FROM stocks')]\n",
    "headers = [field[1] for field in cur.execute(\"PRAGMA table_info(stocks)\")]\n",
    "\n",
    "print(tabulate(table,headers,tablefmt=\"fancy_grid\"))"
   ]
  },
  {
   "cell_type": "code",
   "execution_count": 44,
   "id": "dc776e1b",
   "metadata": {},
   "outputs": [
    {
     "name": "stdout",
     "output_type": "stream",
     "text": [
      "(106.13,)\n"
     ]
    }
   ],
   "source": [
    "for row in cur.execute(\"SELECT SUM(price) FROM stocks\"):\n",
    "    print(row)"
   ]
  },
  {
   "cell_type": "code",
   "execution_count": 41,
   "id": "63e31db7",
   "metadata": {},
   "outputs": [
    {
     "name": "stdout",
     "output_type": "stream",
     "text": [
      "['date', 'trans', 'symbol', 'qty', 'price']\n",
      "(100.0,)\n",
      "(200.0,)\n"
     ]
    }
   ],
   "source": [
    "for row in cur.execute('SELECT qty FROM stocks'):\n",
    "        print(row)"
   ]
  },
  {
   "cell_type": "code",
   "execution_count": 48,
   "id": "5408fe79",
   "metadata": {},
   "outputs": [
    {
     "data": {
      "text/plain": [
       "<sqlite3.Cursor at 0x20e01823500>"
      ]
     },
     "execution_count": 48,
     "metadata": {},
     "output_type": "execute_result"
    }
   ],
   "source": [
    "cur.execute(\"ALTER TABLE stocks ADD totals real\")"
   ]
  },
  {
   "cell_type": "code",
   "execution_count": 57,
   "id": "5520c6c8",
   "metadata": {},
   "outputs": [
    {
     "name": "stdout",
     "output_type": "stream",
     "text": [
      "╒════════════╤═════════╤══════════╤═══════╤═════════╤══════════╕\n",
      "│ date       │ trans   │ symbol   │   qty │   price │ totals   │\n",
      "╞════════════╪═════════╪══════════╪═══════╪═════════╪══════════╡\n",
      "│ 2005-01-08 │ SELL    │ RHAT     │   200 │   70.99 │          │\n",
      "├────────────┼─────────┼──────────┼───────┼─────────┼──────────┤\n",
      "│ 2006-01-05 │ BUY     │ RHAT     │   100 │   35.14 │          │\n",
      "╘════════════╧═════════╧══════════╧═══════╧═════════╧══════════╛\n"
     ]
    }
   ],
   "source": [
    "print_db()"
   ]
  },
  {
   "cell_type": "markdown",
   "id": "9f88aa95",
   "metadata": {},
   "source": [
    "# Crear un pandas, y de él un db"
   ]
  },
  {
   "cell_type": "code",
   "execution_count": 1,
   "id": "c8e719d1",
   "metadata": {},
   "outputs": [],
   "source": [
    "import pandas as pd\n",
    "import sqlite3\n",
    "import numpy as np\n",
    "from tabulate import tabulate\n",
    "from sqlalchemy import create_engine"
   ]
  },
  {
   "cell_type": "code",
   "execution_count": 2,
   "id": "3f302de9",
   "metadata": {},
   "outputs": [],
   "source": [
    "df = pd.DataFrame(np.array([[1, 2, 3], [4, 5, 6], [7, 8, 9]]),\n",
    "                   columns=['a', 'b', 'c'])"
   ]
  },
  {
   "cell_type": "code",
   "execution_count": 3,
   "id": "844d30a9",
   "metadata": {},
   "outputs": [
    {
     "data": {
      "text/html": [
       "<div>\n",
       "<style scoped>\n",
       "    .dataframe tbody tr th:only-of-type {\n",
       "        vertical-align: middle;\n",
       "    }\n",
       "\n",
       "    .dataframe tbody tr th {\n",
       "        vertical-align: top;\n",
       "    }\n",
       "\n",
       "    .dataframe thead th {\n",
       "        text-align: right;\n",
       "    }\n",
       "</style>\n",
       "<table border=\"1\" class=\"dataframe\">\n",
       "  <thead>\n",
       "    <tr style=\"text-align: right;\">\n",
       "      <th></th>\n",
       "      <th>a</th>\n",
       "      <th>b</th>\n",
       "      <th>c</th>\n",
       "    </tr>\n",
       "  </thead>\n",
       "  <tbody>\n",
       "    <tr>\n",
       "      <th>0</th>\n",
       "      <td>1</td>\n",
       "      <td>2</td>\n",
       "      <td>3</td>\n",
       "    </tr>\n",
       "    <tr>\n",
       "      <th>1</th>\n",
       "      <td>4</td>\n",
       "      <td>5</td>\n",
       "      <td>6</td>\n",
       "    </tr>\n",
       "    <tr>\n",
       "      <th>2</th>\n",
       "      <td>7</td>\n",
       "      <td>8</td>\n",
       "      <td>9</td>\n",
       "    </tr>\n",
       "  </tbody>\n",
       "</table>\n",
       "</div>"
      ],
      "text/plain": [
       "   a  b  c\n",
       "0  1  2  3\n",
       "1  4  5  6\n",
       "2  7  8  9"
      ]
     },
     "execution_count": 3,
     "metadata": {},
     "output_type": "execute_result"
    }
   ],
   "source": [
    "df"
   ]
  },
  {
   "cell_type": "code",
   "execution_count": 4,
   "id": "a76ea215",
   "metadata": {},
   "outputs": [
    {
     "name": "stdout",
     "output_type": "stream",
     "text": [
      "2021-12-04 23:21:13,384 INFO sqlalchemy.engine.Engine PRAGMA main.table_info(\"mytable\")\n",
      "2021-12-04 23:21:13,386 INFO sqlalchemy.engine.Engine [raw sql] ()\n",
      "2021-12-04 23:21:13,387 INFO sqlalchemy.engine.Engine PRAGMA temp.table_info(\"mytable\")\n",
      "2021-12-04 23:21:13,389 INFO sqlalchemy.engine.Engine [raw sql] ()\n",
      "2021-12-04 23:21:13,390 INFO sqlalchemy.engine.Engine \n",
      "CREATE TABLE mytable (\n",
      "\ta INTEGER, \n",
      "\tb INTEGER, \n",
      "\tc INTEGER\n",
      ")\n",
      "\n",
      "\n",
      "2021-12-04 23:21:13,391 INFO sqlalchemy.engine.Engine [no key 0.00047s] ()\n",
      "2021-12-04 23:21:13,402 INFO sqlalchemy.engine.Engine COMMIT\n",
      "2021-12-04 23:21:13,403 INFO sqlalchemy.engine.Engine BEGIN (implicit)\n",
      "2021-12-04 23:21:13,404 INFO sqlalchemy.engine.Engine INSERT INTO mytable (a, b, c) VALUES (?, ?, ?)\n",
      "2021-12-04 23:21:13,404 INFO sqlalchemy.engine.Engine [generated in 0.00042s] ((1, 2, 3), (4, 5, 6), (7, 8, 9))\n",
      "2021-12-04 23:21:13,406 INFO sqlalchemy.engine.Engine COMMIT\n"
     ]
    }
   ],
   "source": [
    "# Guardado de pandas a db\n",
    "\n",
    "engine = create_engine('sqlite:///pandas2db.db', echo=True)\n",
    "sqlite_connection = engine.connect()\n",
    "sqlite_table = \"mytable\"\n",
    "df.to_sql(sqlite_table, sqlite_connection, if_exists='fail', index=False)"
   ]
  },
  {
   "cell_type": "code",
   "execution_count": 5,
   "id": "08d91407",
   "metadata": {},
   "outputs": [
    {
     "name": "stdout",
     "output_type": "stream",
     "text": [
      "╒═════╤═════╤═════╕\n",
      "│   a │   b │   c │\n",
      "╞═════╪═════╪═════╡\n",
      "│   1 │   2 │   3 │\n",
      "├─────┼─────┼─────┤\n",
      "│   4 │   5 │   6 │\n",
      "├─────┼─────┼─────┤\n",
      "│   7 │   8 │   9 │\n",
      "╘═════╧═════╧═════╛\n"
     ]
    }
   ],
   "source": [
    "# Cargado de db\n",
    "\n",
    "con = sqlite3.connect('pandas2db.db')\n",
    "cur = con.cursor()\n",
    "\n",
    "table =   [row for row in cur.execute('SELECT * FROM mytable')]\n",
    "headers = [field[1] for field in cur.execute(\"PRAGMA table_info(mytable)\")]\n",
    "\n",
    "print(tabulate(table,headers,tablefmt=\"fancy_grid\"))"
   ]
  },
  {
   "cell_type": "code",
   "execution_count": 6,
   "id": "04fe2be2",
   "metadata": {},
   "outputs": [],
   "source": [
    "# De db a pandas\n",
    "\n",
    "df_db = pd.read_sql_query(\"SELECT * FROM mytable\", con)"
   ]
  },
  {
   "cell_type": "code",
   "execution_count": 7,
   "id": "f014297c",
   "metadata": {},
   "outputs": [
    {
     "data": {
      "text/html": [
       "<div>\n",
       "<style scoped>\n",
       "    .dataframe tbody tr th:only-of-type {\n",
       "        vertical-align: middle;\n",
       "    }\n",
       "\n",
       "    .dataframe tbody tr th {\n",
       "        vertical-align: top;\n",
       "    }\n",
       "\n",
       "    .dataframe thead th {\n",
       "        text-align: right;\n",
       "    }\n",
       "</style>\n",
       "<table border=\"1\" class=\"dataframe\">\n",
       "  <thead>\n",
       "    <tr style=\"text-align: right;\">\n",
       "      <th></th>\n",
       "      <th>a</th>\n",
       "      <th>b</th>\n",
       "      <th>c</th>\n",
       "    </tr>\n",
       "  </thead>\n",
       "  <tbody>\n",
       "    <tr>\n",
       "      <th>0</th>\n",
       "      <td>1</td>\n",
       "      <td>2</td>\n",
       "      <td>3</td>\n",
       "    </tr>\n",
       "    <tr>\n",
       "      <th>1</th>\n",
       "      <td>4</td>\n",
       "      <td>5</td>\n",
       "      <td>6</td>\n",
       "    </tr>\n",
       "    <tr>\n",
       "      <th>2</th>\n",
       "      <td>7</td>\n",
       "      <td>8</td>\n",
       "      <td>9</td>\n",
       "    </tr>\n",
       "  </tbody>\n",
       "</table>\n",
       "</div>"
      ],
      "text/plain": [
       "   a  b  c\n",
       "0  1  2  3\n",
       "1  4  5  6\n",
       "2  7  8  9"
      ]
     },
     "execution_count": 7,
     "metadata": {},
     "output_type": "execute_result"
    }
   ],
   "source": [
    "df_db"
   ]
  },
  {
   "cell_type": "code",
   "execution_count": null,
   "id": "163aa0b5",
   "metadata": {},
   "outputs": [],
   "source": []
  }
 ],
 "metadata": {
  "kernelspec": {
   "display_name": "Python 3 (ipykernel)",
   "language": "python",
   "name": "python3"
  },
  "language_info": {
   "codemirror_mode": {
    "name": "ipython",
    "version": 3
   },
   "file_extension": ".py",
   "mimetype": "text/x-python",
   "name": "python",
   "nbconvert_exporter": "python",
   "pygments_lexer": "ipython3",
   "version": "3.8.12"
  }
 },
 "nbformat": 4,
 "nbformat_minor": 5
}
